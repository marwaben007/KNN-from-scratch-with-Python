{
 "cells": [
  {
   "cell_type": "markdown",
   "metadata": {},
   "source": [
    "## Livrable2\n",
    "Pour plusieurs valeurs de k et pour 3 datasets"
   ]
  },
  {
   "cell_type": "code",
   "execution_count": 23,
   "metadata": {},
   "outputs": [],
   "source": [
    "#importation des biblios\n",
    "import pandas as pd\n",
    "import numpy as np\n",
    "import matplotlib.pyplot as plt\n",
    "import random as rd\n",
    "from math import sqrt\n",
    "from timeit import default_timer as timer\n",
    "\n",
    "\n",
    "#data importation\n",
    "from sklearn.datasets import load_iris\n",
    "from sklearn.datasets import load_diabetes\n",
    "from sklearn.datasets import fetch_california_housing\n",
    "\n",
    "#distance calculation \n",
    "def distance (a, b):\n",
    "    return sqrt((a[0]-b[0])**2 + (a[1]-b[1])**2 )\n",
    "\n",
    "\n",
    "\n",
    "def affiche(x, a, n , k_voisins ):\n",
    "# Création des deux tableaux (axe x et y) pour affichage des points de a (tableaux numpy)\n",
    "    xlargeur=np.array([a[i][0] for i in range(n)])\n",
    "    yhauteur=np.array([a[i][1] for i in range(n)])\n",
    "    \n",
    "# Création des deux tableaux (axe x et y) pour affichage des points de k_voisins (tableaux numpy)\n",
    "    xlargeurk=np.array([k_voisins[i][0] for i in range(k)])\n",
    "    yhauteurk=np.array([k_voisins[i][1] for i in range(k)])\n",
    "    \n",
    "# Initialisation des propriétés de l'affichage\n",
    "    plt.xlabel('x')\n",
    "    plt.ylabel('y')\n",
    "    plt.title('the first nearest points to x')\n",
    "    \n",
    "# Affichage\n",
    "    plt.scatter(xlargeur,yhauteur, c='grey' ,label='far from x')\n",
    "    plt.scatter(xlargeurk,yhauteurk, c='blue',label='near to x')\n",
    "    plt.scatter(x[0],x[1], marker='x',c='blue')\n",
    "    plt.show()\n",
    "    \n",
    "\n",
    "    \n",
    "#fonction de recherche lineaire \n",
    "def cherche_k_voisins_lineaire(k, x, a, n):\n",
    "    k_voisins=[a[i] for i in range(k)] \n",
    "    for i in range(k,n):\n",
    "        for j in range(k):\n",
    "            if distance(a[i],x)<distance(k_voisins[j],x):\n",
    "                largest_distance=0\n",
    "                for j in range(k):\n",
    "                    if largest_distance<distance(k_voisins[j],x):\n",
    "                        largest_distance=distance(k_voisins[j],x)\n",
    "                        indice=j\n",
    "                del k_voisins[indice]\n",
    "                k_voisins.append(a[i])\n",
    "                break\n",
    "                \n",
    "    return k_voisins\n",
    "\n",
    "\n",
    "\n",
    "\n",
    "\n",
    "#fonction de recherche ameliorée\n",
    "def cherche_k_voisins_ameliore(k,x,a,n):\n",
    "    dic={}\n",
    "    for i in range(n):\n",
    "        dic[(distance(a[i],x),i)]=a[i]\n",
    "    dist= [key for key in dic]\n",
    "    dist.sort()\n",
    "    k_voisins=[dic[dist[i]] for i in range(k)]  \n",
    "    return k_voisins\n",
    "  "
   ]
  },
  {
   "cell_type": "markdown",
   "metadata": {},
   "source": [
    "Pour la base de données Iris,On constate que:\n",
    "pour toutes les valeurs de k, le temps d'éxcution a diminué en utilisant la méthode améliorée \n",
    "Pas une grande difference entre les 2 temps car n n'est pas trés grand \n",
    "n=150\n",
    "remarque: le programme ne fonctionne pas si la liste qui contient les valeurs de k est une liste et ne pas un dictionnaire "
   ]
  },
  {
   "cell_type": "code",
   "execution_count": 27,
   "metadata": {},
   "outputs": [
    {
     "name": "stdout",
     "output_type": "stream",
     "text": [
      "iris data:\n",
      "For k=100\n",
      "time duration for lineaire method: 0.026158200000281795\n",
      "time duration for improved method: 0.0006659999999101274\n",
      "time difference: -0.025492200000371668\n",
      "--------------------------------\n",
      "iris data:\n",
      "For k=1\n",
      "time duration for lineaire method: 0.0011961000000155764\n",
      "time duration for improved method: 0.0005505999997694744\n",
      "time difference: -0.000645500000246102\n",
      "--------------------------------\n",
      "iris data:\n",
      "For k=10\n",
      "time duration for lineaire method: 0.008479499999339168\n",
      "time duration for improved method: 0.001699200000075507\n",
      "time difference: -0.0067802999992636614\n",
      "--------------------------------\n",
      "iris data:\n",
      "For k=50\n",
      "time duration for lineaire method: 0.022969100000409526\n",
      "time duration for improved method: 0.0005940000000919099\n",
      "time difference: -0.022375100000317616\n",
      "--------------------------------\n"
     ]
    }
   ],
   "source": [
    "k={1,10,50,100}\n",
    "iris = load_iris()\n",
    "n=150\n",
    "a=iris.data[:,0:2] \n",
    "x=iris.data[90,0:2]\n",
    "\n",
    "for i in k:\n",
    "    \n",
    "    print(\"iris data:\")\n",
    "    print('For k=' + str(i))\n",
    "    debut1=timer()\n",
    "    sol1=cherche_k_voisins_lineaire(i, x, a, n) \n",
    "    fin1=timer()\n",
    "    print(\"time duration for lineaire method:\", fin1-debut1)\n",
    "    debut2=timer()\n",
    "    sol2=cherche_k_voisins_ameliore(i, x, a, n)\n",
    "    fin2=timer()\n",
    "    print(\"time duration for improved method:\", fin2-debut2)\n",
    "    print(\"time difference:\", fin2-debut2-(fin1-debut1))\n",
    "    print('--------------------------------')\n"
   ]
  },
  {
   "cell_type": "markdown",
   "metadata": {},
   "source": [
    "De meme pour la base de données diabetes\n",
    "pour toutes les valeurs de k, le temps d'éxcution a diminué en utilisant la méthode améliorée "
   ]
  },
  {
   "cell_type": "code",
   "execution_count": 25,
   "metadata": {},
   "outputs": [
    {
     "name": "stdout",
     "output_type": "stream",
     "text": [
      "Diabetes data:\n",
      "For k=100\n",
      "time duration for lineaire method: 0.1418348999995942\n",
      "time duration for improved method: 0.001604600000064238\n",
      "--------------------------------\n",
      "Diabetes data:\n",
      "For k=1\n",
      "time duration for lineaire method: 0.0024394000001848326\n",
      "time duration for improved method: 0.0016125000001920853\n",
      "--------------------------------\n",
      "Diabetes data:\n",
      "For k=10\n",
      "time duration for lineaire method: 0.0243374000001495\n",
      "time duration for improved method: 0.001554299999952491\n",
      "--------------------------------\n",
      "Diabetes data:\n",
      "For k=50\n",
      "time duration for lineaire method: 0.09446730000036041\n",
      "time duration for improved method: 0.0017537000003358116\n",
      "--------------------------------\n"
     ]
    }
   ],
   "source": [
    "diabetes = load_diabetes()\n",
    "df = pd.DataFrame(data=diabetes,columns= diabetes.feature_names)\n",
    "n=442\n",
    "a=diabetes.data[:,[0,3]] \n",
    "x=diabetes.data[[90],[0,3]]\n",
    "k={1,10,50,100}\n",
    "\n",
    "\n",
    "for i in k:\n",
    "    \n",
    "    print(\"Diabetes data:\")\n",
    "    print('For k=' + str(i))\n",
    "    debut1=timer()\n",
    "    sol1=cherche_k_voisins_lineaire(i, x, a, n) \n",
    "    fin1=timer()\n",
    "    print(\"time duration for lineaire method:\", fin1-debut1)\n",
    "    debut2=timer()\n",
    "    sol2=cherche_k_voisins_ameliore(i, x, a, n)\n",
    "    fin2=timer()\n",
    "    print(\"time duration for improved method:\", fin2-debut2)\n",
    "    print('--------------------------------')"
   ]
  },
  {
   "cell_type": "markdown",
   "metadata": {},
   "source": [
    "De meme pour la base de donnée fetcj california housing\n",
    "pour toutes les valeurs de k, le temps d'éxcution a diminué en utilisant la méthode améliorée\n",
    "une grande difference entre les 2 temps d'éxcution ( notammant pour le cas de k=100, diff de 13 secondes!!)\n",
    "lorsque n est assez grande, il est important d'optimiser le programme."
   ]
  },
  {
   "cell_type": "code",
   "execution_count": 26,
   "metadata": {},
   "outputs": [
    {
     "name": "stdout",
     "output_type": "stream",
     "text": [
      "['MedInc', 'HouseAge', 'AveRooms', 'AveBedrms', 'Population', 'AveOccup', 'Latitude', 'Longitude']\n",
      "Fetch california housing data:\n",
      "For k=100\n",
      "time duration for lineaire method: 13.12670210000033\n",
      "time duration for improved method: 0.08838569999988977\n",
      "--------------------------------\n",
      "Fetch california housing data:\n",
      "For k=1\n",
      "time duration for lineaire method: 0.12232810000023164\n",
      "time duration for improved method: 0.11950460000025487\n",
      "--------------------------------\n",
      "Fetch california housing data:\n",
      "For k=10\n",
      "time duration for lineaire method: 1.1579538000005414\n",
      "time duration for improved method: 0.08573859999978595\n",
      "--------------------------------\n",
      "Fetch california housing data:\n",
      "For k=50\n",
      "time duration for lineaire method: 5.419097699999838\n",
      "time duration for improved method: 0.12972889999946347\n",
      "--------------------------------\n"
     ]
    }
   ],
   "source": [
    "california_housing = fetch_california_housing()\n",
    "df = pd.DataFrame(data=california_housing,columns= california_housing.feature_names)\n",
    "print(california_housing.feature_names)\n",
    "n=20640\n",
    "a=california_housing.data[:,[1,2]] \n",
    "x=california_housing.data[[90],[1,2]]\n",
    "k={1,10,50,100}\n",
    "\n",
    "\n",
    "for i in k:\n",
    "    \n",
    "    print(\"Fetch california housing data:\")\n",
    "    print('For k=' + str(i))\n",
    "    debut1=timer()\n",
    "    sol1=cherche_k_voisins_lineaire(i, x, a, n) \n",
    "    fin1=timer()\n",
    "    print(\"time duration for lineaire method:\", fin1-debut1)\n",
    "    debut2=timer()\n",
    "    sol2=cherche_k_voisins_ameliore(i, x, a, n)\n",
    "    fin2=timer()\n",
    "    print(\"time duration for improved method:\", fin2-debut2)\n",
    "    print('--------------------------------')"
   ]
  },
  {
   "cell_type": "code",
   "execution_count": null,
   "metadata": {},
   "outputs": [],
   "source": []
  }
 ],
 "metadata": {
  "kernelspec": {
   "display_name": "Python 3",
   "language": "python",
   "name": "python3"
  },
  "language_info": {
   "codemirror_mode": {
    "name": "ipython",
    "version": 3
   },
   "file_extension": ".py",
   "mimetype": "text/x-python",
   "name": "python",
   "nbconvert_exporter": "python",
   "pygments_lexer": "ipython3",
   "version": "3.8.5"
  }
 },
 "nbformat": 4,
 "nbformat_minor": 4
}
